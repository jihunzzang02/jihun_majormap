{
 "cells": [
  {
   "cell_type": "code",
   "execution_count": 2,
   "metadata": {},
   "outputs": [
    {
     "name": "stderr",
     "output_type": "stream",
     "text": [
      "unable to import 'smart_open.gcs', disabling that module\n"
     ]
    }
   ],
   "source": [
    "import argparse\n",
    "import os\n",
    "from gensim.models import Word2Vec\n",
    "from nltk.tokenize import sent_tokenize, word_tokenize\n",
    "from tqdm import tqdm\n",
    "from loader import FileLoader\n",
    "import pickle"
   ]
  },
  {
   "cell_type": "code",
   "execution_count": 102,
   "metadata": {},
   "outputs": [],
   "source": [
    "def word2vec_makeing_256vector():\n",
    "\n",
    "\n",
    "    with open('C:/Users/jihun/OneDrive/바탕 화면/GitHub/nexus/_artifacts_/notebooks/jihun/us_univ_wordbag_not_filtered',\"rb\") as fr:\n",
    "        us_univ_wordbag_not_filtered = pickle.load(fr)\n",
    "    with open('C:/Users/jihun/OneDrive/바탕 화면/GitHub/nexus/_artifacts_/notebooks/jihun/top_keyword',\"rb\") as fr:\n",
    "        top_keyword = pickle.load(fr)\n",
    "\n",
    "\n",
    "\n",
    "    for i in range(len(us_univ_wordbag_not_filtered)):\n",
    "        us_univ_wordbag_not_filtered[i] = us_univ_wordbag_not_filtered[i].split()\n",
    "\n",
    "\n",
    "    max_epochs = 200\n",
    "    vec_size = 256\n",
    "    window_size = 10\n",
    "\n",
    "    model = Word2Vec(us_univ_wordbag_not_filtered, size=vec_size, window=window_size, min_count=5, workers=4, )\n",
    "\n",
    "    word_vectors = model.wv\n",
    "    vocabs = word_vectors.vocab.keys()\n",
    "    word_vectors_list = [word_vectors[v] for v in vocabs]\n",
    "    word_vectors_list\n",
    "\n",
    "    vocabs = list(vocabs)\n",
    "\n",
    "\n",
    "\n",
    "\n",
    "    # 모든 단어의 256벡터를 단어 : 벡터 형식의 dictionary로 저장\n",
    "    all_word_256vector={}\n",
    "    for i in range(len(vocabs)):\n",
    "        all_word_256vector[vocabs[i]] = word_vectors_list[i]\n",
    "\n",
    "    with open('C:/Users/jihun/OneDrive/바탕 화면/GitHub/nexus/_artifacts_/notebooks/jihun/all_word_256vector',\"wb\") as fw:\n",
    "        pickle.dump(all_word_256vector,fw)\n",
    "\n",
    "\n",
    "\n",
    "\n",
    "\n",
    "\n",
    "    # top10 keyword에 존재하는 단어들만  단어 : 벡터 형식의 dictionary로 저장\n",
    "\n",
    "    in_top10keyword_word_256vector = {}\n",
    "    top_keyword = sum(list(top_keyword.values()),[])\n",
    "    for i in range(len(vocabs)):\n",
    "        if vocabs[i] in top_keyword:\n",
    "            in_top10keyword_word_256vector[vocabs[i]] = word_vectors_list[i]\n",
    "\n",
    "    with open('C:/Users/jihun/OneDrive/바탕 화면/GitHub/nexus/_artifacts_/notebooks/jihun/in_top10keyword_word_256vector',\"wb\") as fw:\n",
    "        pickle.dump(in_top10keyword_word_256vector,fw)\n",
    "\n",
    "\n",
    "\n",
    "\n",
    "\n"
   ]
  },
  {
   "cell_type": "code",
   "execution_count": null,
   "metadata": {},
   "outputs": [],
   "source": []
  }
 ],
 "metadata": {
  "kernelspec": {
   "display_name": "Python 3",
   "language": "python",
   "name": "python3"
  },
  "language_info": {
   "codemirror_mode": {
    "name": "ipython",
    "version": 3
   },
   "file_extension": ".py",
   "mimetype": "text/x-python",
   "name": "python",
   "nbconvert_exporter": "python",
   "pygments_lexer": "ipython3",
   "version": "3.7.4"
  }
 },
 "nbformat": 4,
 "nbformat_minor": 2
}
